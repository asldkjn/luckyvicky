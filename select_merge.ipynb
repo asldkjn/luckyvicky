{
 "cells": [
  {
   "cell_type": "code",
   "execution_count": 6,
   "metadata": {},
   "outputs": [],
   "source": [
    "import pandas as pd\n",
    "concat_df = pd.read_excel(r\"\\Users\\kyn03\\Downloads\\바이오힐보_피부고민_merge.xlsx\")"
   ]
  },
  {
   "cell_type": "code",
   "execution_count": 7,
   "metadata": {},
   "outputs": [],
   "source": [
    "concat_df = concat_df.fillna('')\n"
   ]
  },
  {
   "cell_type": "code",
   "execution_count": 8,
   "metadata": {},
   "outputs": [
    {
     "name": "stdout",
     "output_type": "stream",
     "text": [
      "       리뷰어                                                 링크  \\\n",
      "0     소꿉놀이  https://www.oliveyoung.co.kr/store/mypage/getR...   \n",
      "1    냥이가죠앙  https://www.oliveyoung.co.kr/store/mypage/getR...   \n",
      "2     바비올립  https://www.oliveyoung.co.kr/store/mypage/getR...   \n",
      "3      냠냼뇸  https://www.oliveyoung.co.kr/store/mypage/getR...   \n",
      "4  미니민이222  https://www.oliveyoung.co.kr/store/mypage/getR...   \n",
      "\n",
      "                                                  리뷰               고민     후기1  \\\n",
      "0                    크림미스트라서 보습감이 더욱 오래 유지되는 것 같습니다.  지성 여름쿨톤 모공 블랙헤드  한달이상사용   \n",
      "1  올리브영 가면 구경하기 바쁜데요!!\\n온라인도 잘되어있어서 거의 90퍼센트 이상은 ...  복합성 겨울쿨톤 모공 민감성  한달이상사용   \n",
      "2  좋아서 또 사요! 저는 주로 샤워하고 몸닦고 방에 가기 전에 바로 뿌려주는데요. 크...    민감성 웜톤 모공 민감성           \n",
      "3  아무데나 확실한 보습이 필요할 때 사용해주기 좋아요!\\n가볍고 수분에센스같기보다는 ...  지성 여름쿨톤 다크서클 모공           \n",
      "4          자극없고 분사도 잘돼서 너무 좋아요 얼굴과 몸에 둘다 쓸 수 있어서 좋아요    지성 여름쿨톤 각질 모공  한달이상사용   \n",
      "\n",
      "  후기2        별점          날짜      피부타입     피부고민       자극도  도움  \\\n",
      "0      5점만점에 5점  2024.10.05  복합성에 좋아요  진정에 좋아요     보통이에요   2   \n",
      "1      5점만점에 4점  2024.09.27   건성에 좋아요  보습에 좋아요  자극없이 순해요   1   \n",
      "2      5점만점에 5점  2024.08.31   건성에 좋아요  보습에 좋아요  자극없이 순해요   0   \n",
      "3      5점만점에 5점  2024.08.17  복합성에 좋아요  진정에 좋아요     보통이에요   8   \n",
      "4      5점만점에 5점  2024.09.02  복합성에 좋아요  진정에 좋아요     보통이에요   2   \n",
      "\n",
      "                   옵션  매장 선물 피부고민.1  \n",
      "0        [옵션] 120mL단품  매장      블랙헤드  \n",
      "1  [옵션] 120ml+120ml기획          블랙헤드  \n",
      "2  [옵션] 120ml+120ml기획          블랙헤드  \n",
      "3  [옵션] 120ml+120ml기획          블랙헤드  \n",
      "4        [옵션] 120mL단품          블랙헤드  \n",
      "                                                  리뷰        리뷰어          날짜  \\\n",
      "0  *크림층과 수분층으로 이루어진 판테셀 리페어시카 크림미스트!!\\n\\n(참고로 전 민...     탄력끌어올영  2023.09.11   \n",
      "1  + 2번 재구매 후 남기는 리뷰/ 건조한 가을,겨울철 보습이 필요한 때 즉각적으로 ...        햄콩이  2023.10.28   \n",
      "2  + 2번 재구매 후 남기는 리뷰/ 건조한 가을,겨울철 보습이 필요한 때 즉각적으로 ...        햄콩이  2023.11.29   \n",
      "3      1+1 가격 좋아서 쟁겨두고 쓰는 미스트에요 품질 가격 이대로 변치말길~!!~!~        라일리  2023.11.28   \n",
      "4  1+1 구성에 무난하게 사용할 수 있는 것 같아서 구매했는데 역시나 무난하게 사용할...  juyon****  2023.12.08   \n",
      "\n",
      "         별점  도움      피부타입     피부고민     후기1  \\\n",
      "0  5점만점에 4점   6   건성에 좋아요  보습에 좋아요           \n",
      "1  5점만점에 5점   0   건성에 좋아요  보습에 좋아요           \n",
      "2  5점만점에 5점   0   건성에 좋아요  보습에 좋아요  한달이상사용   \n",
      "3  5점만점에 5점   0   건성에 좋아요  보습에 좋아요  한달이상사용   \n",
      "4  5점만점에 5점   0  복합성에 좋아요  보습에 좋아요           \n",
      "\n",
      "                                                  링크                고민 후기2  \\\n",
      "0  https://www.oliveyoung.co.kr/store/mypage/getR...    건성 쿨톤 민감성 블랙헤드       \n",
      "1  https://www.oliveyoung.co.kr/store/mypage/getR...     건성 웜톤 다크서클 미백       \n",
      "2  https://www.oliveyoung.co.kr/store/mypage/getR...  복합성 여름쿨톤 각질 다크서클       \n",
      "3  https://www.oliveyoung.co.kr/store/mypage/getR...      복합성 웜톤 미백 잡티       \n",
      "4  https://www.oliveyoung.co.kr/store/mypage/getR...      복합성 웜톤 각질 모공       \n",
      "\n",
      "        자극도                     옵션  매장  선물                             피부고민.1  \n",
      "0  자극없이 순해요  [옵션] 120mL+120mL 기획세트                         블랙헤드, 트러블, 홍조, 민감성  \n",
      "1  자극없이 순해요  [옵션] 120mL+120mL 기획세트      선물         블랙헤드, 미백, 잡티, 주름, 다크서클, 탄력  \n",
      "2  자극없이 순해요  [옵션] 120mL+120mL 기획세트      선물      블랙헤드, 각질, 트러블, 잡티, 다크서클, 피지과다  \n",
      "3  자극없이 순해요  [옵션] 120mL+120mL 기획세트  매장                    트러블, 미백, 잡티, 주름, 탄력  \n",
      "4     보통이에요  [옵션] 120mL+120mL 기획세트  매장      블랙헤드, 각질, 트러블, 미백, 잡티, 주름, 탄력, 모공  \n"
     ]
    }
   ],
   "source": [
    "# Drop unnecessary columns and rows where '리뷰' is NaN\n",
    "cleaned_df = concat_df.drop(columns='Unnamed: 0').dropna(subset=['리뷰'])\n",
    "cleaned_df = cleaned_df[cleaned_df['리뷰'].str.strip() != '']\n",
    "\n",
    "# Reset the index for better readability\n",
    "cleaned_df.reset_index(drop=True, inplace=True)\n",
    "\n",
    "# Display the cleaned DataFrame\n",
    "print(cleaned_df.head())\n",
    "\n",
    "# Group the cleaned DataFrame by multiple columns and concatenate unique values for other columns\n",
    "grouped_df = cleaned_df.groupby(['리뷰', '리뷰어', '날짜', '별점', '도움', '피부타입', '피부고민','후기1']).agg(lambda x: ', '.join(x.astype(str).unique())).reset_index()\n",
    "\n",
    "# Display the grouped DataFrame\n",
    "print(grouped_df.head())\n"
   ]
  },
  {
   "cell_type": "code",
   "execution_count": 9,
   "metadata": {},
   "outputs": [
    {
     "name": "stdout",
     "output_type": "stream",
     "text": [
      "                                                     리뷰        리뷰어  \\\n",
      "0     *크림층과 수분층으로 이루어진 판테셀 리페어시카 크림미스트!!\\n\\n(참고로 전 민...     탄력끌어올영   \n",
      "1     + 2번 재구매 후 남기는 리뷰/ 건조한 가을,겨울철 보습이 필요한 때 즉각적으로 ...        햄콩이   \n",
      "2     + 2번 재구매 후 남기는 리뷰/ 건조한 가을,겨울철 보습이 필요한 때 즉각적으로 ...        햄콩이   \n",
      "3         1+1 가격 좋아서 쟁겨두고 쓰는 미스트에요 품질 가격 이대로 변치말길~!!~!~        라일리   \n",
      "4     1+1 구성에 무난하게 사용할 수 있는 것 같아서 구매했는데 역시나 무난하게 사용할...  juyon****   \n",
      "...                                                 ...        ...   \n",
      "1218  🖊️수분감 있는 미스트\\n크림미스트라 그냥 미스트보다 촉촉해서 좋아요!\\n그냥 미스...        구르르   \n",
      "1219  🖊️스킨들을 바른듯 촉촉해지는 제품\\n부모님께도 하나 장만해드린 제품이에요:)\\n귀...        구르르   \n",
      "1220  🖊️토너+에멀전 두가지기능을 합친듯한 미스트\\n겨울에 스킨들이 차가워져서 그런지\\n...        구르르   \n",
      "1221  😀바이오힐보 리페어시카 크림 미스트\\n처음구매평 ~!!😆😁\\n\\n총평🥰\\n\\n보습효...      ZZ바라기   \n",
      "1222  😀바이오힐보 리페어시카 크림 미스트\\n한달사용후기 ~!!😆😁\\n\\n총평🥰\\n\\n보습...      ZZ바라기   \n",
      "\n",
      "              날짜        별점  도움      피부타입     피부고민     후기1  \\\n",
      "0     2023.09.11  5점만점에 4점   6   건성에 좋아요  보습에 좋아요           \n",
      "1     2023.10.28  5점만점에 5점   0   건성에 좋아요  보습에 좋아요           \n",
      "2     2023.11.29  5점만점에 5점   0   건성에 좋아요  보습에 좋아요  한달이상사용   \n",
      "3     2023.11.28  5점만점에 5점   0   건성에 좋아요  보습에 좋아요  한달이상사용   \n",
      "4     2023.12.08  5점만점에 5점   0  복합성에 좋아요  보습에 좋아요           \n",
      "...          ...       ...  ..       ...      ...     ...   \n",
      "1218  2024.02.01  5점만점에 5점   2  복합성에 좋아요  보습에 좋아요  한달이상사용   \n",
      "1219  2023.12.29  5점만점에 5점   5  복합성에 좋아요  보습에 좋아요           \n",
      "1220  2023.12.29  5점만점에 5점   0  복합성에 좋아요  보습에 좋아요           \n",
      "1221  2024.07.10  5점만점에 5점   2  복합성에 좋아요  보습에 좋아요           \n",
      "1222  2024.08.25  5점만점에 5점   1   건성에 좋아요  보습에 좋아요  한달이상사용   \n",
      "\n",
      "                                                     링크                 고민  \\\n",
      "0     https://www.oliveyoung.co.kr/store/mypage/getR...     건성 쿨톤 민감성 블랙헤드   \n",
      "1     https://www.oliveyoung.co.kr/store/mypage/getR...      건성 웜톤 다크서클 미백   \n",
      "2     https://www.oliveyoung.co.kr/store/mypage/getR...   복합성 여름쿨톤 각질 다크서클   \n",
      "3     https://www.oliveyoung.co.kr/store/mypage/getR...       복합성 웜톤 미백 잡티   \n",
      "4     https://www.oliveyoung.co.kr/store/mypage/getR...       복합성 웜톤 각질 모공   \n",
      "...                                                 ...                ...   \n",
      "1218  https://www.oliveyoung.co.kr/store/mypage/getR...  트러블성 여름쿨톤 모공 블랙헤드   \n",
      "1219  https://www.oliveyoung.co.kr/store/mypage/getR...  트러블성 여름쿨톤 모공 블랙헤드   \n",
      "1220  https://www.oliveyoung.co.kr/store/mypage/getR...  트러블성 여름쿨톤 모공 블랙헤드   \n",
      "1221  https://www.oliveyoung.co.kr/store/mypage/getR...       건성 웜톤 모공 민감성   \n",
      "1222  https://www.oliveyoung.co.kr/store/mypage/getR...       건성 웜톤 모공 민감성   \n",
      "\n",
      "     후기2       자극도                     옵션  매장  선물  \\\n",
      "0         자극없이 순해요  [옵션] 120mL+120mL 기획세트           \n",
      "1         자극없이 순해요  [옵션] 120mL+120mL 기획세트      선물   \n",
      "2         자극없이 순해요  [옵션] 120mL+120mL 기획세트      선물   \n",
      "3         자극없이 순해요  [옵션] 120mL+120mL 기획세트  매장       \n",
      "4            보통이에요  [옵션] 120mL+120mL 기획세트  매장       \n",
      "...   ..       ...                    ...  ..  ..   \n",
      "1218      자극없이 순해요           [옵션] 120mL단품           \n",
      "1219      자극없이 순해요           [옵션] 120mL단품           \n",
      "1220      자극없이 순해요  [옵션] 120mL+120mL 기획세트           \n",
      "1221         보통이에요  [옵션] 120mL+120mL 기획세트  매장       \n",
      "1222         보통이에요  [옵션] 120mL+120mL 기획세트  매장       \n",
      "\n",
      "                                 피부고민.1  \n",
      "0                    블랙헤드, 트러블, 홍조, 민감성  \n",
      "1            블랙헤드, 미백, 잡티, 주름, 다크서클, 탄력  \n",
      "2         블랙헤드, 각질, 트러블, 잡티, 다크서클, 피지과다  \n",
      "3                   트러블, 미백, 잡티, 주름, 탄력  \n",
      "4     블랙헤드, 각질, 트러블, 미백, 잡티, 주름, 탄력, 모공  \n",
      "...                                 ...  \n",
      "1218                      블랙헤드, 트러블, 모공  \n",
      "1219                      블랙헤드, 트러블, 모공  \n",
      "1220                      블랙헤드, 트러블, 모공  \n",
      "1221                    잡티, 탄력, 모공, 민감성  \n",
      "1222                    잡티, 탄력, 모공, 민감성  \n",
      "\n",
      "[1223 rows x 16 columns]\n"
     ]
    }
   ],
   "source": [
    "print(grouped_df)"
   ]
  },
  {
   "cell_type": "code",
   "execution_count": 10,
   "metadata": {},
   "outputs": [],
   "source": [
    "grouped_df.to_excel(r\"\\Users\\kyn03\\Downloads\\바이오힐보_피부고민_merge_.xlsx\")"
   ]
  }
 ],
 "metadata": {
  "kernelspec": {
   "display_name": "base",
   "language": "python",
   "name": "python3"
  },
  "language_info": {
   "codemirror_mode": {
    "name": "ipython",
    "version": 3
   },
   "file_extension": ".py",
   "mimetype": "text/x-python",
   "name": "python",
   "nbconvert_exporter": "python",
   "pygments_lexer": "ipython3",
   "version": "3.12.7"
  }
 },
 "nbformat": 4,
 "nbformat_minor": 2
}
