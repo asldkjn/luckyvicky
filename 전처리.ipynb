{
 "cells": [
  {
   "cell_type": "markdown",
   "metadata": {},
   "source": [
    "1. 이모티콘, 특수문자, 문장부호 (+만 살리기 ; 1+1 때문에) 삭제\n",
    "2. 한국어 -> 가-힣 만 남기기 "
   ]
  },
  {
   "cell_type": "code",
   "execution_count": 4,
   "metadata": {},
   "outputs": [],
   "source": [
    "import pandas as pd\n",
    "import re\n",
    "\n",
    "df = pd.read_excel(r\"\\Users\\kyn03\\OneDrive\\바탕 화면\\project_file\\아벤느_최종(1018).xlsx\")\n",
    "\n",
    "# '리뷰' 컬럼에서 특수 문자만 남기고 나머지를 제거하는 함수\n",
    "def clean_text(text):\n",
    "    if isinstance(text, str):\n",
    "        return re.sub(r'[^가-힣0-9\\+\\s]', '', text)\n",
    "    else:\n",
    "        return ''\n",
    "    \n",
    "# 데이터프레임의 '리뷰' 컬럼에 적용\n",
    "df['리뷰'] = df['리뷰'].apply(clean_text)\n",
    "\n",
    "df.to_excel(r\"\\Users\\kyn03\\OneDrive\\바탕 화면\\project_file\\아벤느_전처리_최종(1018).xlsx\", index=False)"
   ]
  }
 ],
 "metadata": {
  "kernelspec": {
   "display_name": "base",
   "language": "python",
   "name": "python3"
  },
  "language_info": {
   "codemirror_mode": {
    "name": "ipython",
    "version": 3
   },
   "file_extension": ".py",
   "mimetype": "text/x-python",
   "name": "python",
   "nbconvert_exporter": "python",
   "pygments_lexer": "ipython3",
   "version": "3.12.7"
  }
 },
 "nbformat": 4,
 "nbformat_minor": 2
}
