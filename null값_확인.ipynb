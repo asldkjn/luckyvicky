{
 "cells": [
  {
   "cell_type": "code",
   "execution_count": 1,
   "metadata": {},
   "outputs": [
    {
     "name": "stdout",
     "output_type": "stream",
     "text": [
      "Column '리뷰어': NaN values = 0, Zero values = 0\n",
      "Column 'Unnamed: 0': NaN values = 0, Zero values = 1\n",
      "Column '링크': NaN values = 0, Zero values = 0\n",
      "Column '리뷰': NaN values = 1, Zero values = 0\n",
      "Column '재구매': NaN values = 0, Zero values = 4616\n",
      "Column '한달이상사용': NaN values = 0, Zero values = 3372\n",
      "Column '별점': NaN values = 0, Zero values = 0\n",
      "Column '날짜': NaN values = 0, Zero values = 0\n",
      "Column '추천타입': NaN values = 3235, Zero values = 0\n",
      "Column '추천효과': NaN values = 3235, Zero values = 0\n",
      "Column '자극도': NaN values = 3235, Zero values = 0\n",
      "Column '도움': NaN values = 0, Zero values = 4620\n",
      "Column '옵션': NaN values = 0, Zero values = 0\n",
      "Column '매장': NaN values = 0, Zero values = 3623\n",
      "Column '선물': NaN values = 0, Zero values = 5036\n",
      "Column '성별': NaN values = 4100, Zero values = 0\n",
      "Column '연령대': NaN values = 2920, Zero values = 0\n",
      "Column '피부타입': NaN values = 1191, Zero values = 0\n",
      "Column '피부톤': NaN values = 1407, Zero values = 0\n",
      "Column '피부고민_각질': NaN values = 0, Zero values = 4297\n",
      "Column '피부고민_다크서클': NaN values = 0, Zero values = 4572\n",
      "Column '피부고민_모공': NaN values = 0, Zero values = 4306\n",
      "Column '피부고민_미백': NaN values = 0, Zero values = 4336\n",
      "Column '피부고민_민감성': NaN values = 0, Zero values = 4350\n",
      "Column '피부고민_블랙헤드': NaN values = 0, Zero values = 4288\n",
      "Column '피부고민_아토피': NaN values = 0, Zero values = 5018\n",
      "Column '피부고민_잡티': NaN values = 0, Zero values = 4374\n",
      "Column '피부고민_주름': NaN values = 0, Zero values = 4314\n",
      "Column '피부고민_탄력': NaN values = 0, Zero values = 4295\n",
      "Column '피부고민_트러블': NaN values = 0, Zero values = 4369\n",
      "Column '피부고민_피지과다': NaN values = 0, Zero values = 4643\n",
      "Column '피부고민_홍조': NaN values = 0, Zero values = 4395\n"
     ]
    }
   ],
   "source": [
    "import pandas as pd\n",
    "\n",
    "# 예시로 데이터프레임을 로드합니다 (원하는 파일을 사용하세요)\n",
    "df = pd.read_excel(r\"\\Users\\kyn03\\OneDrive\\바탕 화면\\project_file\\달바_결측치처리_최종.xlsx\")\n",
    "\n",
    "def check_null_and_zero(df):\n",
    "    null_counts = df.isnull().sum()  # 각 열에 대한 NaN 개수 계산\n",
    "    zero_counts = (df == 0).sum()    # 각 열에 대한 0 값 개수 계산\n",
    "\n",
    "    # 결과 출력\n",
    "    for column in df.columns:\n",
    "        print(f\"Column '{column}': NaN values = {null_counts[column]}, Zero values = {zero_counts[column]}\")\n",
    "\n",
    "# 사용 예시\n",
    "# df = pd.read_csv('your_file.csv')\n",
    "check_null_and_zero(df)\n"
   ]
  },
  {
   "cell_type": "code",
   "execution_count": 4,
   "metadata": {},
   "outputs": [
    {
     "name": "stdout",
     "output_type": "stream",
     "text": [
      "모든 '피부고민' 열이 0인 행의 개수: 2188\n"
     ]
    }
   ],
   "source": [
    "import pandas as pd\n",
    "\n",
    "# 데이터 파일 경로\n",
    "file_path = r\"\\Users\\kyn03\\OneDrive\\바탕 화면\\project_file\\달바_결측치처리_최종.xlsx\"\n",
    "df = pd.read_excel(file_path)\n",
    "\n",
    "# \"피부고민\"으로 시작하는 열들만 선택\n",
    "skin_concern_cols = [col for col in df.columns if col.startswith('피부고민_')]\n",
    "\n",
    "# 각 행에서 선택된 열들이 모두 0인 경우 확인\n",
    "all_zero_skin_concern_rows = (df[skin_concern_cols] == 0).all(axis=1)\n",
    "\n",
    "# 모든 \"피부고민\" 열이 0인 행의 개수 출력\n",
    "all_zero_count = all_zero_skin_concern_rows.sum()\n",
    "print(f\"모든 '피부고민' 열이 0인 행의 개수: {all_zero_count}\")\n"
   ]
  },
  {
   "cell_type": "code",
   "execution_count": 2,
   "metadata": {},
   "outputs": [
    {
     "name": "stdout",
     "output_type": "stream",
     "text": [
      "5256\n"
     ]
    }
   ],
   "source": [
    "print(len(df))"
   ]
  },
  {
   "cell_type": "code",
   "execution_count": 13,
   "metadata": {},
   "outputs": [],
   "source": [
    "df2 = pd.read_excel(r\"\\Users\\kyn03\\Downloads\\구매목록_최종(1018).xlsx.xlsx의 사본\")\n"
   ]
  },
  {
   "cell_type": "code",
   "execution_count": 15,
   "metadata": {},
   "outputs": [
    {
     "name": "stdout",
     "output_type": "stream",
     "text": [
      "Unique reviewers count in column '리뷰어': 3021\n",
      "Unique reviewers count in column '리뷰어 이름': 2608\n"
     ]
    }
   ],
   "source": [
    "def count_unique_reviewers(df, reviewer_column):\n",
    "    unique_reviewers_count = df[reviewer_column].nunique()  # 리뷰어 칼럼에서 중복 제거한 개수 계산\n",
    "    print(f\"Unique reviewers count in column '{reviewer_column}': {unique_reviewers_count}\")\n",
    "\n",
    "# 사용 예시\n",
    "# df = pd.read_csv('your_file.csv')\n",
    "# check_null_and_zero(df)\n",
    "count_unique_reviewers(df, '리뷰어')\n",
    "count_unique_reviewers(df2, '리뷰어 이름')\n"
   ]
  },
  {
   "cell_type": "code",
   "execution_count": 4,
   "metadata": {},
   "outputs": [
    {
     "name": "stdout",
     "output_type": "stream",
     "text": [
      "2415\n",
      "7006\n"
     ]
    }
   ],
   "source": [
    "df3 = pd.read_excel(r\"\\Users\\kyn03\\OneDrive\\바탕 화면\\project_file\\바이오힐보_최종(1018).xlsx\")\n",
    "print(len(df3))\n",
    "df4 = pd.read_excel(r\"\\Users\\kyn03\\OneDrive\\바탕 화면\\project_file\\아벤느_최종(1018).xlsx\")\n",
    "print(len(df4))"
   ]
  }
 ],
 "metadata": {
  "kernelspec": {
   "display_name": "base",
   "language": "python",
   "name": "python3"
  },
  "language_info": {
   "codemirror_mode": {
    "name": "ipython",
    "version": 3
   },
   "file_extension": ".py",
   "mimetype": "text/x-python",
   "name": "python",
   "nbconvert_exporter": "python",
   "pygments_lexer": "ipython3",
   "version": "3.12.3"
  }
 },
 "nbformat": 4,
 "nbformat_minor": 2
}
